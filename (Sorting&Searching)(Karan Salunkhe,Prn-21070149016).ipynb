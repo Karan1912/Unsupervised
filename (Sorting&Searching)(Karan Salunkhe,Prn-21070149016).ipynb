{
  "nbformat": 4,
  "nbformat_minor": 0,
  "metadata": {
    "colab": {
      "name": "unsupervised assi(Sorting&Searching).ipynb",
      "provenance": []
    },
    "kernelspec": {
      "name": "python3",
      "display_name": "Python 3"
    },
    "language_info": {
      "name": "python"
    }
  },
  "cells": [
    {
      "cell_type": "markdown",
      "source": [
        "Sorting and Searching"
      ],
      "metadata": {
        "id": "n_6ysRPY0CQF"
      }
    },
    {
      "cell_type": "code",
      "metadata": {
        "colab": {
          "base_uri": "https://localhost:8080/"
        },
        "id": "aHt11--4lQLu",
        "outputId": "d5739f6c-3eb3-4fef-e2fc-8b067dd98cba"
      },
      "source": [
        "def my_string(x):\n",
        " return x[::-1]\n",
        "s= my_string(\"1234abcd\")\n",
        "print(\"My reverse string is: \",s)"
      ],
      "execution_count": null,
      "outputs": [
        {
          "output_type": "stream",
          "name": "stdout",
          "text": [
            "My reverse string is:  dcba4321\n"
          ]
        }
      ]
    },
    {
      "cell_type": "code",
      "metadata": {
        "colab": {
          "base_uri": "https://localhost:8080/"
        },
        "id": "5wrGaXbKolG9",
        "outputId": "15d72cf8-2651-4b90-fedd-af7a5c9a215e"
      },
      "source": [
        "def factorial(n):\n",
        "    if n == 0:\n",
        "        return 1\n",
        "    else:\n",
        "        return n * factorial(n-1)\n",
        "n=int(input(\"Input a number to compute the factiorial : \"))\n",
        "print(factorial(n))"
      ],
      "execution_count": null,
      "outputs": [
        {
          "output_type": "stream",
          "name": "stdout",
          "text": [
            "Input a number to compute the factiorial : 5\n",
            "120\n"
          ]
        }
      ]
    },
    {
      "cell_type": "code",
      "metadata": {
        "colab": {
          "base_uri": "https://localhost:8080/"
        },
        "id": "fYZUJg66q84F",
        "outputId": "ba0ab786-fc6e-49e6-f49a-4328d1425dde"
      },
      "source": [
        "def unique_list(numbers):\n",
        "    unique = []\n",
        "    for item in numbers :\n",
        "        if item not in unique:\n",
        "            unique.append(item)\n",
        "    return unique\n",
        "\n",
        "print(unique_list([1, 2, 3, 1, 2]))"
      ],
      "execution_count": null,
      "outputs": [
        {
          "output_type": "stream",
          "name": "stdout",
          "text": [
            "[1, 2, 3]\n"
          ]
        }
      ]
    },
    {
      "cell_type": "code",
      "metadata": {
        "id": "1xJzfGG-mdLy",
        "colab": {
          "base_uri": "https://localhost:8080/"
        },
        "outputId": "8acb5129-9048-4d91-c56a-cabfec2c2d2d"
      },
      "source": [
        "import numpy as np\n",
        "x = np.array([44,21,56,35,60,5])\n",
        "np.sort(x)"
      ],
      "execution_count": 2,
      "outputs": [
        {
          "output_type": "execute_result",
          "data": {
            "text/plain": [
              "array([ 5, 21, 35, 44, 56, 60])"
            ]
          },
          "metadata": {},
          "execution_count": 2
        }
      ]
    },
    {
      "cell_type": "code",
      "source": [
        "array = np.arange(12).reshape(3, 4)\n",
        "print(\"INPUT ARRAY: \", array)\n",
        "print(\"\\nMax element : \", np.argmax(array))\n",
        "print((\"\\nIndices of Max element : \", np.argmax(array, axis=0)))\n",
        "print((\"\\nIndices of Max element : \", np.argmax(array, axis=1)))\n"
      ],
      "metadata": {
        "colab": {
          "base_uri": "https://localhost:8080/"
        },
        "id": "SqC24cxMWFbf",
        "outputId": "4a2359ab-f244-41cd-f09f-366aa0308b78"
      },
      "execution_count": 3,
      "outputs": [
        {
          "output_type": "stream",
          "name": "stdout",
          "text": [
            "INPUT ARRAY:  [[ 0  1  2  3]\n",
            " [ 4  5  6  7]\n",
            " [ 8  9 10 11]]\n",
            "\n",
            "Max element :  11\n",
            "('\\nIndices of Max element : ', array([2, 2, 2, 2]))\n",
            "('\\nIndices of Max element : ', array([3, 3, 3]))\n"
          ]
        }
      ]
    },
    {
      "cell_type": "code",
      "source": [
        "array = np.arange(8)\n",
        "print(\"INPUT ARRAY : \\n\", array)\n",
        "print(\"\\nIndices of min element : \", np.argmin(array, axis=0))"
      ],
      "metadata": {
        "colab": {
          "base_uri": "https://localhost:8080/"
        },
        "id": "94cGghwzus7b",
        "outputId": "d06c75db-29fc-4e77-8117-9c19baee2ea4"
      },
      "execution_count": 4,
      "outputs": [
        {
          "output_type": "stream",
          "name": "stdout",
          "text": [
            "INPUT ARRAY : \n",
            " [0 1 2 3 4 5 6 7]\n",
            "\n",
            "Indices of min element :  0\n"
          ]
        }
      ]
    },
    {
      "cell_type": "code",
      "source": [
        "arr = np.array([1, 2, 3, 4, 5, 4, 4])\n",
        "x = np.where(arr == 4)\n",
        "print(x)"
      ],
      "metadata": {
        "colab": {
          "base_uri": "https://localhost:8080/"
        },
        "id": "Vj_Nk9uxu9DC",
        "outputId": "32524006-7412-4cb4-92eb-4d70a1a7b746"
      },
      "execution_count": 5,
      "outputs": [
        {
          "output_type": "stream",
          "name": "stdout",
          "text": [
            "(array([3, 5, 6]),)\n"
          ]
        }
      ]
    },
    {
      "cell_type": "code",
      "source": [
        ""
      ],
      "metadata": {
        "id": "nDcKRCyfvhMz"
      },
      "execution_count": null,
      "outputs": []
    }
  ]
}