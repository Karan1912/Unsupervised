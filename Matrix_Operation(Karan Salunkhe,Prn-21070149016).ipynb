{
  "nbformat": 4,
  "nbformat_minor": 0,
  "metadata": {
    "colab": {
      "name": "Matrix Operation.ipynb",
      "provenance": []
    },
    "kernelspec": {
      "name": "python3",
      "display_name": "Python 3"
    },
    "language_info": {
      "name": "python"
    }
  },
  "cells": [
    {
      "cell_type": "markdown",
      "source": [
        "Matrix Addition"
      ],
      "metadata": {
        "id": "iH6CYVl7dBpt"
      }
    },
    {
      "cell_type": "code",
      "metadata": {
        "colab": {
          "base_uri": "https://localhost:8080/"
        },
        "id": "XgYasEP1XjH-",
        "outputId": "630ab748-0076-426a-e0a0-4d627808f528"
      },
      "source": [
        " x= [[2,7,5],[5,3,2],[7,6,5]]\n",
        " y = [[2,4,5],[5,4,3],[6,8,5]]\n",
        " c = [[0,0,0],[0,0,0],[0,0,0]]\n",
        " for i in range(len(c)):\n",
        "  for j in range(len(c[0])):\n",
        "   c[i][j] = x[i][j] +y[i][j]\n",
        "   for r in c:\n",
        "     print(r)"
      ],
      "execution_count": null,
      "outputs": [
        {
          "output_type": "stream",
          "name": "stdout",
          "text": [
            "[4, 0, 0]\n",
            "[0, 0, 0]\n",
            "[0, 0, 0]\n",
            "[4, 11, 0]\n",
            "[0, 0, 0]\n",
            "[0, 0, 0]\n",
            "[4, 11, 10]\n",
            "[0, 0, 0]\n",
            "[0, 0, 0]\n",
            "[4, 11, 10]\n",
            "[10, 0, 0]\n",
            "[0, 0, 0]\n",
            "[4, 11, 10]\n",
            "[10, 7, 0]\n",
            "[0, 0, 0]\n",
            "[4, 11, 10]\n",
            "[10, 7, 5]\n",
            "[0, 0, 0]\n",
            "[4, 11, 10]\n",
            "[10, 7, 5]\n",
            "[13, 0, 0]\n",
            "[4, 11, 10]\n",
            "[10, 7, 5]\n",
            "[13, 14, 0]\n",
            "[4, 11, 10]\n",
            "[10, 7, 5]\n",
            "[13, 14, 10]\n"
          ]
        }
      ]
    },
    {
      "cell_type": "markdown",
      "source": [
        "Complex Number Addition and Subtraction"
      ],
      "metadata": {
        "id": "KNSTfzDhdIsw"
      }
    },
    {
      "cell_type": "code",
      "metadata": {
        "colab": {
          "base_uri": "https://localhost:8080/"
        },
        "id": "J8ANiYhOhpU0",
        "outputId": "ab868d91-06d9-4017-b403-bd99d5623740"
      },
      "source": [
        "def add_complex(a,b):\n",
        " a+b\n",
        " return \n",
        "a = complex(input(\"enter the number:\"))\n",
        "b = complex(input(\"enter the number:\"))\n",
        "print(a+b)"
      ],
      "execution_count": null,
      "outputs": [
        {
          "output_type": "stream",
          "name": "stdout",
          "text": [
            "enter the number:8+4j\n",
            "enter the number:5+7j\n",
            "(13+11j)\n"
          ]
        }
      ]
    },
    {
      "cell_type": "code",
      "metadata": {
        "colab": {
          "base_uri": "https://localhost:8080/"
        },
        "id": "UaP9gIy0ingP",
        "outputId": "060056ff-8349-4b39-a8b6-3854c205311b"
      },
      "source": [
        "def sub_complex(a,b):\n",
        " a-b\n",
        " return \n",
        "a = complex(input(\"enter the number:\"))\n",
        "b = complex(input(\"enter the number:\"))\n",
        "print(a-b)"
      ],
      "execution_count": null,
      "outputs": [
        {
          "output_type": "stream",
          "name": "stdout",
          "text": [
            "enter the number:8+7j\n",
            "enter the number:2+3j\n",
            "(6+4j)\n"
          ]
        }
      ]
    },
    {
      "cell_type": "markdown",
      "source": [
        "Matrix Multiplication"
      ],
      "metadata": {
        "id": "-Tsw3Yd6dSrC"
      }
    },
    {
      "cell_type": "code",
      "metadata": {
        "colab": {
          "base_uri": "https://localhost:8080/"
        },
        "id": "GR7ef9A8iyoq",
        "outputId": "d746cdfa-426f-46bc-d0ec-274593f4f365"
      },
      "source": [
        "# multiply\n",
        "x = [[3,2,4],[5,4,3],[2,3,4]]\n",
        "y = [[4,3,5],[3,2,1],[4,3,2]]\n",
        "c = [[0,0,0],[0,0,0],[0,0,0]]\n",
        "for i in range(len(c)):\n",
        "  for j in range(len(c[0])):\n",
        "    for k in range(len(y)):\n",
        "      c[i][j] +=x[i][k]*y[k][j]\n",
        "      for r in c:\n",
        "        print(r)"
      ],
      "execution_count": null,
      "outputs": [
        {
          "output_type": "stream",
          "name": "stdout",
          "text": [
            "[12, 0, 0]\n",
            "[0, 0, 0]\n",
            "[0, 0, 0]\n",
            "[18, 0, 0]\n",
            "[0, 0, 0]\n",
            "[0, 0, 0]\n",
            "[34, 0, 0]\n",
            "[0, 0, 0]\n",
            "[0, 0, 0]\n",
            "[34, 9, 0]\n",
            "[0, 0, 0]\n",
            "[0, 0, 0]\n",
            "[34, 13, 0]\n",
            "[0, 0, 0]\n",
            "[0, 0, 0]\n",
            "[34, 25, 0]\n",
            "[0, 0, 0]\n",
            "[0, 0, 0]\n",
            "[34, 25, 15]\n",
            "[0, 0, 0]\n",
            "[0, 0, 0]\n",
            "[34, 25, 17]\n",
            "[0, 0, 0]\n",
            "[0, 0, 0]\n",
            "[34, 25, 25]\n",
            "[0, 0, 0]\n",
            "[0, 0, 0]\n",
            "[34, 25, 25]\n",
            "[20, 0, 0]\n",
            "[0, 0, 0]\n",
            "[34, 25, 25]\n",
            "[32, 0, 0]\n",
            "[0, 0, 0]\n",
            "[34, 25, 25]\n",
            "[44, 0, 0]\n",
            "[0, 0, 0]\n",
            "[34, 25, 25]\n",
            "[44, 15, 0]\n",
            "[0, 0, 0]\n",
            "[34, 25, 25]\n",
            "[44, 23, 0]\n",
            "[0, 0, 0]\n",
            "[34, 25, 25]\n",
            "[44, 32, 0]\n",
            "[0, 0, 0]\n",
            "[34, 25, 25]\n",
            "[44, 32, 25]\n",
            "[0, 0, 0]\n",
            "[34, 25, 25]\n",
            "[44, 32, 29]\n",
            "[0, 0, 0]\n",
            "[34, 25, 25]\n",
            "[44, 32, 35]\n",
            "[0, 0, 0]\n",
            "[34, 25, 25]\n",
            "[44, 32, 35]\n",
            "[8, 0, 0]\n",
            "[34, 25, 25]\n",
            "[44, 32, 35]\n",
            "[17, 0, 0]\n",
            "[34, 25, 25]\n",
            "[44, 32, 35]\n",
            "[33, 0, 0]\n",
            "[34, 25, 25]\n",
            "[44, 32, 35]\n",
            "[33, 6, 0]\n",
            "[34, 25, 25]\n",
            "[44, 32, 35]\n",
            "[33, 12, 0]\n",
            "[34, 25, 25]\n",
            "[44, 32, 35]\n",
            "[33, 24, 0]\n",
            "[34, 25, 25]\n",
            "[44, 32, 35]\n",
            "[33, 24, 10]\n",
            "[34, 25, 25]\n",
            "[44, 32, 35]\n",
            "[33, 24, 13]\n",
            "[34, 25, 25]\n",
            "[44, 32, 35]\n",
            "[33, 24, 21]\n"
          ]
        }
      ]
    }
  ]
}