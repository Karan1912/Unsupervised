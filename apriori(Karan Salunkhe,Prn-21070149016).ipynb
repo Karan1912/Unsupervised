{
 "cells": [
  {
   "cell_type": "code",
   "execution_count": null,
   "metadata": {
    "colab": {
     "base_uri": "https://localhost:8080/"
    },
    "id": "1lxTahgF0MJW",
    "outputId": "09f74880-e95f-4698-cac3-25914af44c76"
   },
   "outputs": [
    {
     "name": "stdout",
     "output_type": "stream",
     "text": [
      "Collecting apyori\n",
      "  Downloading apyori-1.1.2.tar.gz (8.6 kB)\n",
      "Building wheels for collected packages: apyori\n",
      "  Building wheel for apyori (setup.py) ... \u001b[?25l\u001b[?25hdone\n",
      "  Created wheel for apyori: filename=apyori-1.1.2-py3-none-any.whl size=5974 sha256=2607b87d8e5871b9e3b1e0472e29491de1e22d483686be4a58c2bbaaf04df8d8\n",
      "  Stored in directory: /root/.cache/pip/wheels/cb/f6/e1/57973c631d27efd1a2f375bd6a83b2a616c4021f24aab84080\n",
      "Successfully built apyori\n",
      "Installing collected packages: apyori\n",
      "Successfully installed apyori-1.1.2\n"
     ]
    }
   ],
   "source": [
    "!pip install apyori"
   ]
  },
  {
   "cell_type": "code",
   "execution_count": null,
   "metadata": {
    "id": "22Ory29E26La"
   },
   "outputs": [],
   "source": [
    "import numpy as np\n",
    "import pandas as pd\n",
    "from apyori import apriori"
   ]
  },
  {
   "cell_type": "code",
   "execution_count": null,
   "metadata": {
    "colab": {
     "base_uri": "https://localhost:8080/",
     "height": 417
    },
    "id": "UQYoOjyW0OJH",
    "outputId": "b9ad83c7-7b9c-400b-b8d4-4a67ea2da332"
   },
   "outputs": [
    {
     "data": {
      "text/html": [
       "<div>\n",
       "<style scoped>\n",
       "    .dataframe tbody tr th:only-of-type {\n",
       "        vertical-align: middle;\n",
       "    }\n",
       "\n",
       "    .dataframe tbody tr th {\n",
       "        vertical-align: top;\n",
       "    }\n",
       "\n",
       "    .dataframe thead th {\n",
       "        text-align: right;\n",
       "    }\n",
       "</style>\n",
       "<table border=\"1\" class=\"dataframe\">\n",
       "  <thead>\n",
       "    <tr style=\"text-align: right;\">\n",
       "      <th></th>\n",
       "      <th>Transaction</th>\n",
       "      <th>Item</th>\n",
       "      <th>date_time</th>\n",
       "      <th>period_day</th>\n",
       "      <th>weekday_weekend</th>\n",
       "    </tr>\n",
       "  </thead>\n",
       "  <tbody>\n",
       "    <tr>\n",
       "      <th>0</th>\n",
       "      <td>1</td>\n",
       "      <td>Bread</td>\n",
       "      <td>30-10-2016 09:58</td>\n",
       "      <td>morning</td>\n",
       "      <td>weekend</td>\n",
       "    </tr>\n",
       "    <tr>\n",
       "      <th>1</th>\n",
       "      <td>2</td>\n",
       "      <td>Scandinavian</td>\n",
       "      <td>30-10-2016 10:05</td>\n",
       "      <td>morning</td>\n",
       "      <td>weekend</td>\n",
       "    </tr>\n",
       "    <tr>\n",
       "      <th>2</th>\n",
       "      <td>2</td>\n",
       "      <td>Scandinavian</td>\n",
       "      <td>30-10-2016 10:05</td>\n",
       "      <td>morning</td>\n",
       "      <td>weekend</td>\n",
       "    </tr>\n",
       "    <tr>\n",
       "      <th>3</th>\n",
       "      <td>3</td>\n",
       "      <td>Hot chocolate</td>\n",
       "      <td>30-10-2016 10:07</td>\n",
       "      <td>morning</td>\n",
       "      <td>weekend</td>\n",
       "    </tr>\n",
       "    <tr>\n",
       "      <th>4</th>\n",
       "      <td>3</td>\n",
       "      <td>Jam</td>\n",
       "      <td>30-10-2016 10:07</td>\n",
       "      <td>morning</td>\n",
       "      <td>weekend</td>\n",
       "    </tr>\n",
       "    <tr>\n",
       "      <th>...</th>\n",
       "      <td>...</td>\n",
       "      <td>...</td>\n",
       "      <td>...</td>\n",
       "      <td>...</td>\n",
       "      <td>...</td>\n",
       "    </tr>\n",
       "    <tr>\n",
       "      <th>20502</th>\n",
       "      <td>9682</td>\n",
       "      <td>Coffee</td>\n",
       "      <td>09-04-2017 14:32</td>\n",
       "      <td>afternoon</td>\n",
       "      <td>weekend</td>\n",
       "    </tr>\n",
       "    <tr>\n",
       "      <th>20503</th>\n",
       "      <td>9682</td>\n",
       "      <td>Tea</td>\n",
       "      <td>09-04-2017 14:32</td>\n",
       "      <td>afternoon</td>\n",
       "      <td>weekend</td>\n",
       "    </tr>\n",
       "    <tr>\n",
       "      <th>20504</th>\n",
       "      <td>9683</td>\n",
       "      <td>Coffee</td>\n",
       "      <td>09-04-2017 14:57</td>\n",
       "      <td>afternoon</td>\n",
       "      <td>weekend</td>\n",
       "    </tr>\n",
       "    <tr>\n",
       "      <th>20505</th>\n",
       "      <td>9683</td>\n",
       "      <td>Pastry</td>\n",
       "      <td>09-04-2017 14:57</td>\n",
       "      <td>afternoon</td>\n",
       "      <td>weekend</td>\n",
       "    </tr>\n",
       "    <tr>\n",
       "      <th>20506</th>\n",
       "      <td>9684</td>\n",
       "      <td>Smoothies</td>\n",
       "      <td>09-04-2017 15:04</td>\n",
       "      <td>afternoon</td>\n",
       "      <td>weekend</td>\n",
       "    </tr>\n",
       "  </tbody>\n",
       "</table>\n",
       "<p>20507 rows × 5 columns</p>\n",
       "</div>"
      ],
      "text/plain": [
       "       Transaction           Item         date_time period_day weekday_weekend\n",
       "0                1          Bread  30-10-2016 09:58    morning         weekend\n",
       "1                2   Scandinavian  30-10-2016 10:05    morning         weekend\n",
       "2                2   Scandinavian  30-10-2016 10:05    morning         weekend\n",
       "3                3  Hot chocolate  30-10-2016 10:07    morning         weekend\n",
       "4                3            Jam  30-10-2016 10:07    morning         weekend\n",
       "...            ...            ...               ...        ...             ...\n",
       "20502         9682         Coffee  09-04-2017 14:32  afternoon         weekend\n",
       "20503         9682            Tea  09-04-2017 14:32  afternoon         weekend\n",
       "20504         9683         Coffee  09-04-2017 14:57  afternoon         weekend\n",
       "20505         9683         Pastry  09-04-2017 14:57  afternoon         weekend\n",
       "20506         9684      Smoothies  09-04-2017 15:04  afternoon         weekend\n",
       "\n",
       "[20507 rows x 5 columns]"
      ]
     },
     "execution_count": 12,
     "metadata": {},
     "output_type": "execute_result"
    }
   ],
   "source": [
    "data = pd.read_csv('bread basket.csv')\n",
    "data"
   ]
  },
  {
   "cell_type": "code",
   "execution_count": null,
   "metadata": {
    "colab": {
     "base_uri": "https://localhost:8080/"
    },
    "id": "pCKiHtug0Xzh",
    "outputId": "659d7c92-f352-4f6c-b593-c495e4da179e"
   },
   "outputs": [
    {
     "data": {
      "text/plain": [
       "Index(['Transaction', 'Item', 'date_time', 'period_day', 'weekday_weekend'], dtype='object')"
      ]
     },
     "execution_count": 13,
     "metadata": {},
     "output_type": "execute_result"
    }
   ],
   "source": [
    "data.columns"
   ]
  },
  {
   "cell_type": "code",
   "execution_count": null,
   "metadata": {
    "colab": {
     "base_uri": "https://localhost:8080/"
    },
    "id": "J2438p314OjL",
    "outputId": "554e8766-02d0-439a-d9ab-020f9a6daf8d"
   },
   "outputs": [
    {
     "data": {
      "text/plain": [
       "(20507, 5)"
      ]
     },
     "execution_count": 14,
     "metadata": {},
     "output_type": "execute_result"
    }
   ],
   "source": [
    "data.shape"
   ]
  },
  {
   "cell_type": "code",
   "execution_count": null,
   "metadata": {
    "id": "Iw8YCyGB2Ipq"
   },
   "outputs": [],
   "source": [
    "r = []\n",
    "for i in range(len(data)):\n",
    "  r.append([str(data.values[i, j]) for j in range(0, 5)])"
   ]
  },
  {
   "cell_type": "code",
   "execution_count": null,
   "metadata": {
    "id": "7TeCmocF4sUQ"
   },
   "outputs": [],
   "source": [
    "a_rules=apriori(r,min_support=0.2,min_confidence=0.2)\n",
    "a_result=list(a_rules)\n"
   ]
  },
  {
   "cell_type": "code",
   "execution_count": null,
   "metadata": {
    "colab": {
     "base_uri": "https://localhost:8080/"
    },
    "id": "QN4RBx3tApR-",
    "outputId": "b06bb888-9725-4cee-cb2c-0581c052f228"
   },
   "outputs": [
    {
     "name": "stdout",
     "output_type": "stream",
     "text": [
      "8\n",
      "[RelationRecord(items=frozenset({'Coffee'}), support=0.26678695079728876, ordered_statistics=[OrderedStatistic(items_base=frozenset(), items_add=frozenset({'Coffee'}), confidence=0.26678695079728876, lift=1.0)]), RelationRecord(items=frozenset({'afternoon'}), support=0.5641488272297265, ordered_statistics=[OrderedStatistic(items_base=frozenset(), items_add=frozenset({'afternoon'}), confidence=0.5641488272297265, lift=1.0)]), RelationRecord(items=frozenset({'morning'}), support=0.4098112839518213, ordered_statistics=[OrderedStatistic(items_base=frozenset(), items_add=frozenset({'morning'}), confidence=0.4098112839518213, lift=1.0)]), RelationRecord(items=frozenset({'weekday'}), support=0.6245184571122055, ordered_statistics=[OrderedStatistic(items_base=frozenset(), items_add=frozenset({'weekday'}), confidence=0.6245184571122055, lift=1.0)]), RelationRecord(items=frozenset({'weekend'}), support=0.3754815428877944, ordered_statistics=[OrderedStatistic(items_base=frozenset(), items_add=frozenset({'weekend'}), confidence=0.3754815428877944, lift=1.0)]), RelationRecord(items=frozenset({'weekday', 'afternoon'}), support=0.3546593846003804, ordered_statistics=[OrderedStatistic(items_base=frozenset(), items_add=frozenset({'weekday', 'afternoon'}), confidence=0.3546593846003804, lift=1.0), OrderedStatistic(items_base=frozenset({'afternoon'}), items_add=frozenset({'weekday'}), confidence=0.6286628057740513, lift=1.006636070743224), OrderedStatistic(items_base=frozenset({'weekday'}), items_add=frozenset({'afternoon'}), confidence=0.5678925587569299, lift=1.0066360707432243)]), RelationRecord(items=frozenset({'weekend', 'afternoon'}), support=0.20948944262934607, ordered_statistics=[OrderedStatistic(items_base=frozenset(), items_add=frozenset({'weekend', 'afternoon'}), confidence=0.20948944262934607, lift=1.0), OrderedStatistic(items_base=frozenset({'afternoon'}), items_add=frozenset({'weekend'}), confidence=0.37133719422594863, lift=0.9889625768820167), OrderedStatistic(items_base=frozenset({'weekend'}), items_add=frozenset({'afternoon'}), confidence=0.5579220779220779, lift=0.9889625768820167)]), RelationRecord(items=frozenset({'morning', 'weekday'}), support=0.25230409128590237, ordered_statistics=[OrderedStatistic(items_base=frozenset(), items_add=frozenset({'morning', 'weekday'}), confidence=0.25230409128590237, lift=1.0), OrderedStatistic(items_base=frozenset({'morning'}), items_add=frozenset({'weekday'}), confidence=0.6156592099000476, lift=0.9858142748044255), OrderedStatistic(items_base=frozenset({'weekday'}), items_add=frozenset({'morning'}), confidence=0.4039978136956352, lift=0.9858142748044254)])]\n"
     ]
    }
   ],
   "source": [
    "print(len(a_result))\n",
    "\n",
    "print(a_result)\n"
   ]
  },
  {
   "cell_type": "code",
   "execution_count": null,
   "metadata": {
    "colab": {
     "base_uri": "https://localhost:8080/"
    },
    "id": "vaQBxGfozmCL",
    "outputId": "e15b44ee-a30b-4b89-d1ee-77936a8ead26"
   },
   "outputs": [
    {
     "data": {
      "text/plain": [
       "1.0"
      ]
     },
     "execution_count": 27,
     "metadata": {},
     "output_type": "execute_result"
    }
   ],
   "source": [
    "support=len(data.Item)/len(data)\n",
    "support"
   ]
  },
  {
   "cell_type": "code",
   "execution_count": null,
   "metadata": {
    "id": "6muD_0UI47d8"
   },
   "outputs": [],
   "source": []
  }
 ],
 "metadata": {
  "colab": {
   "collapsed_sections": [],
   "name": "apriori_algorith_unsupervised_lab.ipynb",
   "provenance": [],
   "toc_visible": true
  },
  "kernelspec": {
   "display_name": "Python 3 (ipykernel)",
   "language": "python",
   "name": "python3"
  },
  "language_info": {
   "codemirror_mode": {
    "name": "ipython",
    "version": 3
   },
   "file_extension": ".py",
   "mimetype": "text/x-python",
   "name": "python",
   "nbconvert_exporter": "python",
   "pygments_lexer": "ipython3",
   "version": "3.9.5"
  }
 },
 "nbformat": 4,
 "nbformat_minor": 1
}
